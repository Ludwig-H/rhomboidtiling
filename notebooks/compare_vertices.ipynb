{
 "cells": [
  {
   "cell_type": "markdown",
   "metadata": {},
   "source": [
    "# Compare Vertices of K-order Delaunay"
   ]
  },
  {
   "cell_type": "code",
   "execution_count": null,
   "metadata": {},
   "outputs": [],
   "source": [
    "!apt-get update && apt-get install -y libcgal-dev cmake g++\n",
    "!cmake -S . -B build\n",
    "!cmake --build build --target VerticesKOrderDelaunay\n"
   ]
  },
  {
   "cell_type": "code",
   "execution_count": null,
   "metadata": {},
   "outputs": [],
   "source": [
    "import numpy as np\n",
    "np.random.seed(0)\n",
    "pts = np.random.rand(100,3)\n",
    "np.savetxt('points.xyz', pts)\n",
    "import subprocess\n",
    "subprocess.run(['./build/VerticesKOrderDelaunay','points.xyz','3','vertices.txt'], check=True)\n"
   ]
  },
  {
   "cell_type": "code",
   "execution_count": null,
   "metadata": {},
   "outputs": [],
   "source": [
    "!git clone https://github.com/geoo89/orderkdelaunay orderkd\n",
    "import sys, numpy as np\n",
    "sys.path.append('orderkd/python')\n",
    "from orderk_delaunay import OrderKDelaunay\n",
    "points = np.loadtxt('points.xyz').tolist()\n",
    "okd = OrderKDelaunay(points, 3)\n",
    "py_vertices = {tuple(sorted(v)) for v in okd.diagrams_vertices[2]}\n",
    "with open('vertices.txt') as f:\n",
    "    our_vertices = {tuple(map(int,line.split())) for line in f if line.strip()}\n",
    "print('equal', py_vertices == our_vertices)\n",
    "print('count', len(our_vertices))\n"
   ]
  }
 ],
 "metadata": {
  "kernelspec": {
   "display_name": "Python 3",
   "language": "python",
   "name": "python3"
  },
  "language_info": {
   "name": "python",
   "version": "3.x"
  }
 },
 "nbformat": 4,
 "nbformat_minor": 5
}
